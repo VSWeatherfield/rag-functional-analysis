{
 "cells": [
  {
   "cell_type": "code",
   "execution_count": 1,
   "id": "7c6b680b-4dca-4668-8215-047be0e0ff80",
   "metadata": {},
   "outputs": [],
   "source": [
    "from IPython.display import HTML, display"
   ]
  },
  {
   "cell_type": "code",
   "execution_count": 4,
   "id": "2cea0fd8-ba52-4294-b81f-82e8b3d2f80b",
   "metadata": {},
   "outputs": [],
   "source": [
    "prompts = [\"В каком году была доказана Теорема Алсведе-Хачатряна\", \"В каком году была доказана теорема Франкла Вилсона\", \"Напиши мне теоремы о кликовом числе и числе независимости\"]\n",
    "\n",
    "rows_mistral_without_rag = [\n",
    "    \"Теорема Алсведе-Хачатрян была доказана в 1983 году (неверно)\",\n",
    "    \"1936 год (неверно)\",\n",
    "    \"1. Теорема об эквивалентности числа клик и числа независимости (Теорема Эрдёша-Корадя) утверждает, что для любого фиксированного числа $k$ существуют графы с $n$ вершинами такими, что их число клик больше или равно их числу независимости, и существуют графы с $n$ вершинами такие, что их число клик меньше или равно их числу независимости. Эта теорема показывает, что число клик не всегда определяет структуру графа, а может быть связано с более общими свойствами графа.\\n\\n2. Теорема Кёрчера-Стоуна утверждает, что для любого $n\\geq 3$, существует граф, в котором число клик равно 1 и число независимости равно n-1. Эта теорема показывает, что можно построить граф с малым числом клик и большим числом независимости, то есть граф со специальной структурой.\\n\\n3. Теорема об ограниченном росте кликового числа утверждает, что для любого фиксированного $k$ существуют $n_0$, такое, что любые графы с $n\\geq n_0$ вершинами имеют не более чем k клик. Эта теорема показывает, что количество клик в больших графах ограничено фиксированным числом $k$.\",\n",
    "]\n",
    "\n",
    "rows_mistral_with_rag = [\n",
    "    \"1996 год.\",\n",
    "    \"1981 год.\",\n",
    "    \"1. Теорема о кликовом числе:\\n§§omega(G) leqslant sum<k0><p> Cmk < s(p)§§\\nЭта теорема утверждает, что кликовое число графа G (ω(G)) не превышает сумму по k от 0 до p степеней многочлена m(k), где m(k) - многочлен, заданный в форме суммы Cmk.\\n\\n2. Теорема о числе независимости:\\n\\t§frac<Cn<(frac<2  sqrt<2>><2>)>><sum<k0><p1> Cnk>§\\n\\tЭта теорема утверждает, что число независимых множеств в графе G (α(G)) меньше, чем сумма по k от 0 до p1 степеней многочлена n(k), где n(k) - многочлен, заданный в форме sum<k0><p1> Cnk. При этом коэффициент перед n^k в многочлене n(k) больше, чем корень из 2 по степени k.\",\n",
    "]"
   ]
  },
  {
   "cell_type": "code",
   "execution_count": 5,
   "id": "a61a5156-8494-4a76-88e9-c9902eb2dfb5",
   "metadata": {},
   "outputs": [
    {
     "data": {
      "text/html": [
       "<table style=\"border:1px solid black\" >\n",
       "  <tr>\n",
       "    <th style=\"text-align: center; border:1px solid black\">PROMPT</th>\n",
       "    <th style=\"text-align: center; border:1px solid black\">Mistral (with basic prompt)</th>\n",
       "    <th style=\"text-align: center; border:1px solid black\">Mistral (with basic prompt and discrete analysis lecture notes)</th>\n",
       "  </tr>\n",
       "  <tr>\n",
       "    <td style=\"width:20%; border:1px solid black\"><pre align=\"left\">`В каком году была доказана Теорема Алсведе-Хачатряна`</pre></td>\n",
       "    <td style=\"width:40%; border:1px solid black\"><pre align=\"left\">Теорема Алсведе-Хачатрян была доказана в 1983 году (неверно)</pre></td>\n",
       "    <td style=\"width:40%; border:1px solid black\"><pre align=\"left\">1996 год.</pre></td>\n",
       "  </tr>\n",
       "  <tr>\n",
       "    <td style=\"width:20%; border:1px solid black\"><pre align=\"left\">`В каком году была доказана теорема Франкла Вилсона`</pre></td>\n",
       "    <td style=\"width:40%; border:1px solid black\"><pre align=\"left\">1936 год (неверно)</pre></td>\n",
       "    <td style=\"width:40%; border:1px solid black\"><pre align=\"left\">1981 год.</pre></td>\n",
       "  </tr>\n",
       "  <tr>\n",
       "    <td style=\"width:20%; border:1px solid black\"><pre align=\"left\">`Напиши мне теоремы о кликовом числе и числе независимости`</pre></td>\n",
       "    <td style=\"width:40%; border:1px solid black\"><pre align=\"left\">1. Теорема об эквивалентности числа клик и числа независимости (Теорема Эрдёша-Корадя) утверждает, что для любого фиксированного числа $k$ существуют графы с $n$ вершинами такими, что их число клик больше или равно их числу независимости, и существуют графы с $n$ вершинами такие, что их число клик меньше или равно их числу независимости. Эта теорема показывает, что число клик не всегда определяет структуру графа, а может быть связано с более общими свойствами графа.\n",
       "\n",
       "2. Теорема Кёрчера-Стоуна утверждает, что для любого $n\\geq 3$, существует граф, в котором число клик равно 1 и число независимости равно n-1. Эта теорема показывает, что можно построить граф с малым числом клик и большим числом независимости, то есть граф со специальной структурой.\n",
       "\n",
       "3. Теорема об ограниченном росте кликового числа утверждает, что для любого фиксированного $k$ существуют $n_0$, такое, что любые графы с $n\\geq n_0$ вершинами имеют не более чем k клик. Эта теорема показывает, что количество клик в больших графах ограничено фиксированным числом $k$.</pre></td>\n",
       "    <td style=\"width:40%; border:1px solid black\"><pre align=\"left\">1. Теорема о кликовом числе:\n",
       "§§omega(G) leqslant sum<k0><p> Cmk < s(p)§§\n",
       "Эта теорема утверждает, что кликовое число графа G (ω(G)) не превышает сумму по k от 0 до p степеней многочлена m(k), где m(k) - многочлен, заданный в форме суммы Cmk.\n",
       "\n",
       "2. Теорема о числе независимости:\n",
       "\t§frac<Cn<(frac<2  sqrt<2>><2>)>><sum<k0><p1> Cnk>§\n",
       "\tЭта теорема утверждает, что число независимых множеств в графе G (α(G)) меньше, чем сумма по k от 0 до p1 степеней многочлена n(k), где n(k) - многочлен, заданный в форме sum<k0><p1> Cnk. При этом коэффициент перед n^k в многочлене n(k) больше, чем корень из 2 по степени k.</pre></td>\n",
       "  </tr>\n",
       "</table>"
      ],
      "text/plain": [
       "<IPython.core.display.HTML object>"
      ]
     },
     "metadata": {},
     "output_type": "display_data"
    }
   ],
   "source": [
    "table_template = \"\"\"<table style=\"border:1px solid black\" >\n",
    "  <tr>\n",
    "    <th style=\"text-align: center; border:1px solid black\">PROMPT</th>\n",
    "    <th style=\"text-align: center; border:1px solid black\">Mistral (with basic prompt)</th>\n",
    "    <th style=\"text-align: center; border:1px solid black\">Mistral (with basic prompt and discrete analysis lecture notes)</th>\n",
    "  </tr>\n",
    "{}\n",
    "</table>\"\"\"\n",
    "\n",
    "row_template = \"\"\"  <tr>\n",
    "    <td style=\"width:20%; border:1px solid black\"><pre align=\"left\">`{}`</pre></td>\n",
    "    <td style=\"width:40%; border:1px solid black\"><pre align=\"left\">{}</pre></td>\n",
    "    <td style=\"width:40%; border:1px solid black\"><pre align=\"left\">{}</pre></td>\n",
    "  </tr>\"\"\"\n",
    "\n",
    "rows = []\n",
    "\n",
    "for prompt, out_not_finetuned, out_finetuned in zip(\n",
    "    prompts, rows_mistral_without_rag, rows_mistral_with_rag\n",
    "):\n",
    "    # replace placeholders in the format() arguments\n",
    "    rows.append(row_template.format(prompt, out_not_finetuned, out_finetuned))\n",
    "\n",
    "display(HTML(table_template.format(\"\\n\".join(rows))))"
   ]
  },
  {
   "cell_type": "code",
   "execution_count": 17,
   "id": "e5e3341c-ec00-4547-ac52-2f890db92f8c",
   "metadata": {},
   "outputs": [],
   "source": [
    "prompts = [\n",
    "    \"Что такое §mathcal<L>(E1 E2)§ ?\",\n",
    "    \"Дай определение компактного метрического пространства\",\n",
    "    \"Что такое оператор Вольтерра\",\n",
    "]\n",
    "\n",
    "funcan_mistral_without_rag = [\n",
    "    \"Функция секция $\\mathcal{L}(E_1, E_2)$ - это функция, определяющая множество всех возможных функций $f$, таких что $f: E_1 \\to E_2$. В других словах, это функция, которая принимает на вход два множества и возвращает множество всех функций от первого множества во второе. Эта концепция является важной для функционального анализа.\",\n",
    "    \"Компактное метрическое пространство — это топологическое пространство, в котором каждая открытая покрывающая система имеет конечное подпокрытие. В metrical space означает пространство с метрикой (разстоянием между элементами), а топологическое пространство — пространство с заданной структурой окрестностей каждого элемента, определяемой открытыми множествами. Такая структура позволяет говорить об особых свойствах набора точек (или элементов), например о компактности.\",\n",
    "    \"Оператор Вольтерра - это линейный дифференциальный оператор второго порядка, используемый в теории уравнений дифференциальных уравнений. Он определяется как следующий:\\n\\n\\tL[f] = d²f/dt² - df/dt - k^2f\\n\\nгде f(t) - функция, k - константа (коэффициент Лапласа). Данный оператор определяет вид решения дифференциального уравнения 2-го порядка с конечными производными по старшим точкам. Он назван в честь французского математика Жозефа Лювилля (Joseph Liouville), который изучал его приложения к физике, а также итальянского математика Оресте Вильгельма Вольтерра, который ранее изучал схожие операторы.\",\n",
    "]\n",
    "\n",
    "funcan_mistral_with_rag = [\n",
    "    \"Пространство линейных ограниченных операторов действующих из $E1$ в $E2$. Формально, это линейное пространство над полем $mathbb{K}$, состоящее из всех таких линейных операторов, которые можно представить как комбинацию скалярных множителей и сумм отдельных операторов.\",\n",
    "    \"Метрическое пространство $X$ называется **компактным**, если для любой системы открытых множеств $\\left\\{ G_\\alpha \\right\\}_{\\alpha \\in A} \\subset 2X$, где $A$ - некоторое индексное множество, такой что $\\bigcup_{\\alpha \\in A} G_\\alpha = X$ существует конечный набор $\\left\\{ \\alpha_1, ..., \\alpha_n \\right\\} \\subset A$, такой что $\\bigcup_{k=1}^n G_{\\alpha_k} = X$.\",\n",
    "    \"Оператор Вольтерра - это линейный непрерывный опертор из пространства $E1 = C(0,1)$ в себя же, заданный формулой $(Af)(x) = \\int\\limits_0^x f(t)dt$. Таким образом, если $f \\in E1$, то $Af$ будет функцией из $E2 = C(0,1)$, а именно интегралом $\\int\\limits_0^x f(t)dt$.\",\n",
    "]"
   ]
  },
  {
   "cell_type": "code",
   "execution_count": 18,
   "id": "58859122-b5c3-42e0-ad5b-38f91bcce256",
   "metadata": {},
   "outputs": [
    {
     "data": {
      "text/html": [
       "<table style=\"border:1px solid black\" >\n",
       "  <tr>\n",
       "    <th style=\"text-align: center; border:1px solid black\">PROMPT</th>\n",
       "    <th style=\"text-align: center; border:1px solid black\">Mistral (with basic prompt)</th>\n",
       "    <th style=\"text-align: center; border:1px solid black\">Mistral (with basic prompt and discrete analysis lecture notes)</th>\n",
       "  </tr>\n",
       "  <tr>\n",
       "    <td style=\"width:20%; border:1px solid black\"><pre align=\"left\">`Что такое §mathcal<L>(E1 E2)§ ?`</pre></td>\n",
       "    <td style=\"width:40%; border:1px solid black\"><pre align=\"left\">Функция секция $\\mathcal{L}(E_1, E_2)$ - это функция, определяющая множество всех возможных функций $f$, таких что $f: E_1 \to E_2$. В других словах, это функция, которая принимает на вход два множества и возвращает множество всех функций от первого множества во второе. Эта концепция является важной для функционального анализа.</pre></td>\n",
       "    <td style=\"width:40%; border:1px solid black\"><pre align=\"left\">Пространство линейных ограниченных операторов действующих из $E1$ в $E2$. Формально, это линейное пространство над полем $mathbb{K}$, состоящее из всех таких линейных операторов, которые можно представить как комбинацию скалярных множителей и сумм отдельных операторов.</pre></td>\n",
       "  </tr>\n",
       "  <tr>\n",
       "    <td style=\"width:20%; border:1px solid black\"><pre align=\"left\">`Дай определение компактного метрического пространства`</pre></td>\n",
       "    <td style=\"width:40%; border:1px solid black\"><pre align=\"left\">Компактное метрическое пространство — это топологическое пространство, в котором каждая открытая покрывающая система имеет конечное подпокрытие. В metrical space означает пространство с метрикой (разстоянием между элементами), а топологическое пространство — пространство с заданной структурой окрестностей каждого элемента, определяемой открытыми множествами. Такая структура позволяет говорить об особых свойствах набора точек (или элементов), например о компактности.</pre></td>\n",
       "    <td style=\"width:40%; border:1px solid black\"><pre align=\"left\">Метрическое пространство $X$ называется **компактным**, если для любой системы открытых множеств $\\left\\{ G_\u0007lpha \r",
       "ight\\}_{\u0007lpha \\in A} \\subset 2X$, где $A$ - некоторое индексное множество, такой что $\bigcup_{\u0007lpha \\in A} G_\u0007lpha = X$ существует конечный набор $\\left\\{ \u0007lpha_1, ..., \u0007lpha_n \r",
       "ight\\} \\subset A$, такой что $\bigcup_{k=1}^n G_{\u0007lpha_k} = X$.</pre></td>\n",
       "  </tr>\n",
       "  <tr>\n",
       "    <td style=\"width:20%; border:1px solid black\"><pre align=\"left\">`Что такое оператор Вольтерра`</pre></td>\n",
       "    <td style=\"width:40%; border:1px solid black\"><pre align=\"left\">Оператор Вольтерра - это линейный дифференциальный оператор второго порядка, используемый в теории уравнений дифференциальных уравнений. Он определяется как следующий:\n",
       "\n",
       "\tL[f] = d²f/dt² - df/dt - k^2f\n",
       "\n",
       "где f(t) - функция, k - константа (коэффициент Лапласа). Данный оператор определяет вид решения дифференциального уравнения 2-го порядка с конечными производными по старшим точкам. Он назван в честь французского математика Жозефа Лювилля (Joseph Liouville), который изучал его приложения к физике, а также итальянского математика Оресте Вильгельма Вольтерра, который ранее изучал схожие операторы.</pre></td>\n",
       "    <td style=\"width:40%; border:1px solid black\"><pre align=\"left\">Оператор Вольтерра - это линейный непрерывный опертор из пространства $E1 = C(0,1)$ в себя же, заданный формулой $(Af)(x) = \\int\\limits_0^x f(t)dt$. Таким образом, если $f \\in E1$, то $Af$ будет функцией из $E2 = C(0,1)$, а именно интегралом $\\int\\limits_0^x f(t)dt$.</pre></td>\n",
       "  </tr>\n",
       "</table>"
      ],
      "text/plain": [
       "<IPython.core.display.HTML object>"
      ]
     },
     "metadata": {},
     "output_type": "display_data"
    }
   ],
   "source": [
    "table_template = \"\"\"<table style=\"border:1px solid black\" >\n",
    "  <tr>\n",
    "    <th style=\"text-align: center; border:1px solid black\">PROMPT</th>\n",
    "    <th style=\"text-align: center; border:1px solid black\">Mistral (with basic prompt)</th>\n",
    "    <th style=\"text-align: center; border:1px solid black\">Mistral (with basic prompt and discrete analysis lecture notes)</th>\n",
    "  </tr>\n",
    "{}\n",
    "</table>\"\"\"\n",
    "\n",
    "row_template = \"\"\"  <tr>\n",
    "    <td style=\"width:20%; border:1px solid black\"><pre align=\"left\">`{}`</pre></td>\n",
    "    <td style=\"width:40%; border:1px solid black\"><pre align=\"left\">{}</pre></td>\n",
    "    <td style=\"width:40%; border:1px solid black\"><pre align=\"left\">{}</pre></td>\n",
    "  </tr>\"\"\"\n",
    "\n",
    "rows = []\n",
    "\n",
    "for prompt, out_not_finetuned, out_finetuned in zip(\n",
    "    prompts, funcan_mistral_without_rag, funcan_mistral_with_rag\n",
    "):\n",
    "    # replace placeholders in the format() arguments\n",
    "    rows.append(row_template.format(prompt, out_not_finetuned, out_finetuned))\n",
    "\n",
    "display(HTML(table_template.format(\"\\n\".join(rows))))"
   ]
  },
  {
   "cell_type": "code",
   "execution_count": null,
   "id": "a0b006cc-c2df-43a2-98a5-ea92528c6928",
   "metadata": {},
   "outputs": [],
   "source": []
  }
 ],
 "metadata": {
  "kernelspec": {
   "display_name": "Python 3 (ipykernel)",
   "language": "python",
   "name": "python3"
  },
  "language_info": {
   "codemirror_mode": {
    "name": "ipython",
    "version": 3
   },
   "file_extension": ".py",
   "mimetype": "text/x-python",
   "name": "python",
   "nbconvert_exporter": "python",
   "pygments_lexer": "ipython3",
   "version": "3.10.12"
  }
 },
 "nbformat": 4,
 "nbformat_minor": 5
}
